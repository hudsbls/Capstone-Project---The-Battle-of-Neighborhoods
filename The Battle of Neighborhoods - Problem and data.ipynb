{
 "cells": [
  {
   "cell_type": "markdown",
   "metadata": {},
   "source": [
    "# The Battle of Neighborhoods\n"
   ]
  },
  {
   "cell_type": "markdown",
   "metadata": {},
   "source": [
    "London is the largest city on the European continent and one of the largest in the world, with a population of more than 8,100,000 inhabitants, according to the 2011 [*census*](https://en.wikipedia.org/wiki/2011_United_Kingdom_census), divided between the city of London and 32 neighborhoods. \n",
    "\n",
    "It is a true multicultural city with one of the greatest ethnic diversity in the world. A cosmopolitan center.\n",
    "\"Ethnic diversity makes Britain’s culture great\" according to The [Guardian](https://www.theguardian.com/commentisfree/2019/jul/10/diversity-uk-britain-culture-arts-sport). Besides being a cultural center, it is also an important financial center, a very attractive place for a new business."
   ]
  },
  {
   "cell_type": "markdown",
   "metadata": {},
   "source": [
    "# Problem:"
   ]
  },
  {
   "cell_type": "markdown",
   "metadata": {},
   "source": [
    "\n",
    "An Asian company Nhonho wants to open a new restaurant in London, with a focus on the Asian public.\n",
    "Considering the new business, what would be the most appropriate place to open the business?\n",
    "\n",
    "When deciding on the concept of the restaurant, the next big question is where to open the restaurant. The choice of where to open is essential for the success of the enterprise, for this, it takes into account several factors for decision making:\n",
    "\n",
    "- The target audience - Assess the demographics of the city.\n",
    "- The location of the target audience - Search for a location close to your customers.\n",
    "- The competitors - Analyze them.\n",
    "- The types of business close to the location - Check the zone's businesses.\n",
    "\n",
    "It is hoped that clarifying these points with the appropriate data and analysis will help Nhonho to choose the most appropriate place for the opening of their new venture.\n"
   ]
  },
  {
   "cell_type": "markdown",
   "metadata": {},
   "source": [
    "## Data:"
   ]
  },
  {
   "cell_type": "markdown",
   "metadata": {},
   "source": [
    "\n",
    "We will be using the below datasets for analysing London, UK.\n",
    "\n",
    "London has a total of 32 boroughs, London City will not be considered as borough. In order to select the right boroughs and neighborhoods we will use the wikipedia pages with the list of:\n",
    "\n",
    "**London boroughs:**\n",
    "https://en.wikipedia.org/wiki/List_of_London_boroughs\n",
    "\n",
    "**London neighborhoods (areas):**\n",
    "\n",
    "https://en.wikipedia.org/wiki/List_of_areas_of_London\n",
    "\n",
    "The latitude and logitude coordinates of each neighborhood will be extracted using **geocode** package.\n",
    "\n",
    "To demographically analyze the city of London, a table extracted from Wikipedia will be used, considering the ethnics groups by borough:\n",
    "https://en.wikipedia.org/wiki/Demography_of_London\n",
    "\n",
    "\n",
    "These datas from Wikipedia are originally from the **London Datastore**.\n",
    "\n",
    "\n",
    "London geographical coordinates data will be utilized as input for the Foursquare API, that will be leveraged to provision venues information for each neighborhood. We will use the Foursquare API to explore neighborhoods in London boroughs.\n"
   ]
  },
  {
   "cell_type": "markdown",
   "metadata": {},
   "source": []
  }
 ],
 "metadata": {
  "kernelspec": {
   "display_name": "Python 3",
   "language": "python",
   "name": "python3"
  },
  "language_info": {
   "codemirror_mode": {
    "name": "ipython",
    "version": 3
   },
   "file_extension": ".py",
   "mimetype": "text/x-python",
   "name": "python",
   "nbconvert_exporter": "python",
   "pygments_lexer": "ipython3",
   "version": "3.7.4"
  }
 },
 "nbformat": 4,
 "nbformat_minor": 2
}
